{
 "cells": [
  {
   "cell_type": "code",
   "execution_count": 10,
   "id": "7e860302",
   "metadata": {},
   "outputs": [
    {
     "name": "stdout",
     "output_type": "stream",
     "text": [
      "Ratio of Blue-White Veil to Lesion: 0.0\n"
     ]
    }
   ],
   "source": [
    "import cv2\n",
    "import numpy as np\n",
    "\n",
    "def calculate_blue_white_ratio(image_path, mask_path):\n",
    "    # Load the image and mask\n",
    "    image = cv2.imread(image_path)\n",
    "    mask = cv2.imread(mask_path, cv2.IMREAD_GRAYSCALE)\n",
    "\n",
    "    # Convert image to HSV color space\n",
    "    hsv_image = cv2.cvtColor(image, cv2.COLOR_BGR2HSV)\n",
    "\n",
    "    # Define lower and upper bounds for blue color in HSV\n",
    "    lower_blue = np.array([90, 50, 50])\n",
    "    upper_blue = np.array([130, 255, 255])\n",
    "\n",
    "    # Create a mask for blue color\n",
    "    blue_mask = cv2.inRange(hsv_image, lower_blue, upper_blue)\n",
    "\n",
    "    # Combine the blue mask with the original mask\n",
    "    combined_mask = cv2.bitwise_and(mask, mask, mask=blue_mask)\n",
    "\n",
    "    # Calculate area of blue-white veil\n",
    "    blue_white_area = cv2.countNonZero(combined_mask)\n",
    "\n",
    "    # Calculate area of the lesion (non-zero pixels in the mask)\n",
    "    lesion_area = cv2.countNonZero(mask)\n",
    "\n",
    "    # Calculate the ratio of blue-white veil area to lesion area\n",
    "    ratio = blue_white_area / lesion_area\n",
    "\n",
    "    return ratio\n",
    "\n",
    "# File paths relative to the script location\n",
    "image_path = 'PAT_63_99_189.png'\n",
    "mask_path = 'PAT_63_99_189_mask.png'\n",
    "\n",
    "# Calculate blue-white veil area ratio\n",
    "blue_white_ratio = calculate_blue_white_ratio(image_path, mask_path)\n",
    "print(f\"Ratio of Blue-White Veil to Lesion: {blue_white_ratio}\")\n"
   ]
  }
 ],
 "metadata": {
  "kernelspec": {
   "display_name": "Python 3 (ipykernel)",
   "language": "python",
   "name": "python3"
  },
  "language_info": {
   "codemirror_mode": {
    "name": "ipython",
    "version": 3
   },
   "file_extension": ".py",
   "mimetype": "text/x-python",
   "name": "python",
   "nbconvert_exporter": "python",
   "pygments_lexer": "ipython3",
   "version": "3.11.4"
  }
 },
 "nbformat": 4,
 "nbformat_minor": 5
}
