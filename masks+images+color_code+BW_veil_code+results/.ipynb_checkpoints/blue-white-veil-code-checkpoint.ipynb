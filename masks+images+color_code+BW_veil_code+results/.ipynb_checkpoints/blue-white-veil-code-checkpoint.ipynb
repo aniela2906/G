{
 "cells": [
  {
   "cell_type": "markdown",
   "id": "2fdec308",
   "metadata": {},
   "source": [
    "# Blue-white veil test\n",
    "\n"
   ]
  },
  {
   "cell_type": "markdown",
   "id": "5ca820c3",
   "metadata": {},
   "source": [
    "## INPUT: image path, mask path\n",
    "## OUTPUT: yes, no if the blue-white veil is detected\n",
    "\n",
    "### description:\n",
    "1. Load images\n",
    "2. convert image to HSV color space\n",
    "3. create mask for blue and combine with orginal mask\n",
    "4. return ratio of blue-white0veil part/ full size of image range [0,1]\n",
    "5. ratio >0.1 - yes, else no\n",
    "\n",
    "### WARNING: do not uplad masks that have blue pen marks around lesion, then the result is not reliable"
   ]
  },
  {
   "cell_type": "code",
   "execution_count": 2,
   "id": "9109afe8",
   "metadata": {},
   "outputs": [
    {
     "name": "stdout",
     "output_type": "stream",
     "text": [
      "Ratio of Blue-White Veil to Lesion: no\n"
     ]
    }
   ],
   "source": [
    "import cv2\n",
    "import numpy as np\n",
    "\n",
    "\n",
    "def calculate_blue_white_ratio(image_path, mask_path):\n",
    "   # Load the image and mask\n",
    "    image = cv2.imread(image_path)\n",
    "    mask = cv2.imread(mask_path, cv2.IMREAD_GRAYSCALE)\n",
    "\n",
    "    # Check if images were loaded successfully\n",
    "    if image is None:\n",
    "        print(f\"Error loading image: {image_path}\")\n",
    "        return\n",
    "    if mask is None:\n",
    "        print(f\"Error loading mask: {mask_path}\")\n",
    "        return\n",
    "\n",
    "    # Resize the mask to match the dimensions of the image\n",
    "    if image.shape[:2] != mask.shape[:2]:\n",
    "        print(\"Image and mask dimensions do not match. Resizing mask...\")\n",
    "        mask = cv2.resize(mask, (image.shape[1], image.shape[0]))\n",
    "\n",
    "    # Convert image to HSV color space\n",
    "    hsv_image = cv2.cvtColor(image, cv2.COLOR_BGR2HSV)\n",
    "\n",
    "    # Define lower and upper bounds for blue color in HSV\n",
    "    lower_blue = np.array([90, 50, 50])\n",
    "    upper_blue = np.array([130, 255, 255])\n",
    "\n",
    "    # Create a mask for blue color\n",
    "    blue_mask = cv2.inRange(hsv_image, lower_blue, upper_blue)\n",
    "\n",
    "    # Combine the blue mask with the original mask\n",
    "    combined_mask = cv2.bitwise_and(mask, mask, mask=blue_mask)\n",
    "\n",
    "\n",
    "\n",
    "    # Calculate area of blue-white veil\n",
    "    blue_white_area = cv2.countNonZero(combined_mask)\n",
    "\n",
    "    # Calculate area of the lesion (non-zero pixels in the mask)\n",
    "    lesion_area = cv2.countNonZero(mask)\n",
    "\n",
    "    # Calculate the ratio of blue-white veil area to lesion area\n",
    "    ratio = blue_white_area / lesion_area\n",
    "\n",
    "    if ratio>0.1:\n",
    "        return \"yes\"\n",
    "    else:\n",
    "        return \"no\"\n",
    "\n",
    "# File paths relative to the script location\n",
    "image_path = 'PAT_63_99_189.png'\n",
    "mask_path = 'PAT_63_99_189_mask.png'\n",
    "\n",
    "# Calculate blue-white veil area ratio\n",
    "blue_white_ratio = calculate_blue_white_ratio(image_path, mask_path)\n",
    "print(f\"Ratio of Blue-White Veil to Lesion: {blue_white_ratio}\")\n"
   ]
  },
  {
   "cell_type": "markdown",
   "id": "aaffd83d",
   "metadata": {},
   "source": [
    "## For all photos in the folder, Output in a CSV file"
   ]
  },
  {
   "cell_type": "code",
   "execution_count": 3,
   "id": "c8429c1f",
   "metadata": {},
   "outputs": [
    {
     "name": "stdout",
     "output_type": "stream",
     "text": [
      "Error loading mask: .\\PAT_771_1489_345_mask.png\n",
      "Error loading mask: .\\PAT_153_233_45_mask.png\n",
      "Error loading mask: .\\PAT_246_377_159_mask.png\n",
      "Error loading mask: .\\PAT_356_4511_960_mask.png\n",
      "Error loading mask: .\\PAT_1618_2771_628_mask.png\n",
      "Done\n"
     ]
    }
   ],
   "source": [
    "import os\n",
    "import csv\n",
    "\n",
    "# Path to the folder containing images and masks\n",
    "folder_path = '.'  # images, masks, and CSV file are in the same folder\n",
    "\n",
    "# Open the CSV file for reading\n",
    "with open('imageID_sheet.csv', 'r') as csvfile:\n",
    "    reader = csv.reader(csvfile)\n",
    "    next(reader)  # Skip header row\n",
    "\n",
    "    # Open a new CSV file for writing\n",
    "    with open('comparison_BW_veil.csv', 'w', newline='') as outfile:\n",
    "        writer = csv.writer(outfile)\n",
    "        \n",
    "        # Iterate over rows in the CSV file\n",
    "        for row in reader:\n",
    "            image_name = row[0] + '.png'  # Assuming image names are in the first column\n",
    "            mask_name = row[0] + '_mask.png'\n",
    "            image_path = os.path.join(folder_path, image_name)\n",
    "            mask_path = os.path.join(folder_path, mask_name)\n",
    "\n",
    "            try:\n",
    "                # Calculate colorfulness score\n",
    "                blue_white_ratio = calculate_blue_white_ratio(image_path, mask_path)\n",
    "                \n",
    "                # Update the row with the computed score\n",
    "                row.append(blue_white_ratio)\n",
    "\n",
    "                # Write the updated row to the output CSV file\n",
    "                writer.writerow(row)\n",
    "            except FileNotFoundError:\n",
    "                print(f\"File not found: {image_name} or {mask_name}. Skipping...\")\n",
    "\n",
    "print(\"Done\")\n"
   ]
  },
  {
   "cell_type": "markdown",
   "id": "48606cd0",
   "metadata": {},
   "source": [
    "## ps://www.ncbi.nlm.nih.gov/pmc/articles/PMC3160648/   -Automatic detection of Blue-veil by PubMed central"
   ]
  },
  {
   "cell_type": "code",
   "execution_count": 4,
   "id": "487a113e",
   "metadata": {},
   "outputs": [
    {
     "name": "stdout",
     "output_type": "stream",
     "text": [
      "Blue-White Veil Presence: 0\n"
     ]
    }
   ],
   "source": [
    "import cv2\n",
    "import numpy as np\n",
    "\n",
    "def calculate_blue_white_presence(image_path, mask_path):\n",
    "    # Load the image and mask\n",
    "    image = cv2.imread(image_path)\n",
    "    mask = cv2.imread(mask_path, cv2.IMREAD_GRAYSCALE)\n",
    "\n",
    "    # Check if images were loaded successfully\n",
    "    if image is None:\n",
    "        print(f\"Error loading image: {image_path}\")\n",
    "        return\n",
    "    if mask is None:\n",
    "        print(f\"Error loading mask: {mask_path}\")\n",
    "        return\n",
    "\n",
    "    # Resize the mask to match the dimensions of the image\n",
    "    if image.shape[:2] != mask.shape[:2]:\n",
    "        print(\"Image and mask dimensions do not match. Resizing mask...\")\n",
    "        mask = cv2.resize(mask, (image.shape[1], image.shape[0]))\n",
    "\n",
    "    # Convert image to LAB color space\n",
    "    lab_image = cv2.cvtColor(image, cv2.COLOR_BGR2LAB)\n",
    "\n",
    "    # Extract color channels\n",
    "    L, a, b = cv2.split(lab_image)\n",
    "    R, G, B = cv2.split(image)\n",
    "\n",
    "    # Calculate features\n",
    "    F1 = R + L\n",
    "    F2 = G + L\n",
    "    F3 = B + L\n",
    "    F4 = R - L\n",
    "    F5 = G - L\n",
    "    F6 = B - L\n",
    "\n",
    "    # Normalize features\n",
    "    F7 = F4 / (F4 + F5 + F6)\n",
    "    F8 = F5 / (F4 + F5 + F6)\n",
    "    F9 = F6 / (F4 + F5 + F6)\n",
    "    F10 = R - np.mean(R)\n",
    "    F11 = G - np.mean(G)\n",
    "    F12 = B - np.mean(B)\n",
    "    F13 = F10 / (F10 + F11 + F12)\n",
    "    F14 = F11 / (F10 + F11 + F12)\n",
    "    F15 = F12 / (F10 + F11 + F12)\n",
    "\n",
    "    # Calculate blue-white presence based on conditions\n",
    "    if F3.mean() <= 0.3:\n",
    "        return \"0\"\n",
    "    elif F10.mean() > -51:\n",
    "        return \"0\"\n",
    "    elif F10.mean() <= -194:\n",
    "        return \"0\"\n",
    "    else:\n",
    "        return \"1\"\n",
    "\n",
    "# File paths relative to the script location\n",
    "image_path = 'PAT_63_99_189.png'\n",
    "mask_path = 'PAT_63_99_189_mask.png'\n",
    "\n",
    "# Calculate blue-white presence based on the conditions\n",
    "blue_white_presence = calculate_blue_white_presence(image_path, mask_path)\n",
    "print(f\"Blue-White Veil Presence: {blue_white_presence}\")\n"
   ]
  },
  {
   "cell_type": "markdown",
   "id": "33319b98",
   "metadata": {},
   "source": [
    "## returned in comparison_BW2_veil.csv"
   ]
  },
  {
   "cell_type": "code",
   "execution_count": 5,
   "id": "33c41578",
   "metadata": {},
   "outputs": [
    {
     "name": "stderr",
     "output_type": "stream",
     "text": [
      "C:\\Users\\cieci\\AppData\\Local\\Temp\\ipykernel_17084\\3027802829.py:38: RuntimeWarning: divide by zero encountered in divide\n",
      "  F7 = F4 / (F4 + F5 + F6)\n",
      "C:\\Users\\cieci\\AppData\\Local\\Temp\\ipykernel_17084\\3027802829.py:39: RuntimeWarning: divide by zero encountered in divide\n",
      "  F8 = F5 / (F4 + F5 + F6)\n",
      "C:\\Users\\cieci\\AppData\\Local\\Temp\\ipykernel_17084\\3027802829.py:40: RuntimeWarning: divide by zero encountered in divide\n",
      "  F9 = F6 / (F4 + F5 + F6)\n",
      "C:\\Users\\cieci\\AppData\\Local\\Temp\\ipykernel_17084\\3027802829.py:38: RuntimeWarning: invalid value encountered in divide\n",
      "  F7 = F4 / (F4 + F5 + F6)\n",
      "C:\\Users\\cieci\\AppData\\Local\\Temp\\ipykernel_17084\\3027802829.py:40: RuntimeWarning: invalid value encountered in divide\n",
      "  F9 = F6 / (F4 + F5 + F6)\n"
     ]
    },
    {
     "name": "stdout",
     "output_type": "stream",
     "text": [
      "Error loading mask: .\\PAT_771_1489_345_mask.png\n"
     ]
    },
    {
     "name": "stderr",
     "output_type": "stream",
     "text": [
      "C:\\Users\\cieci\\AppData\\Local\\Temp\\ipykernel_17084\\3027802829.py:39: RuntimeWarning: invalid value encountered in divide\n",
      "  F8 = F5 / (F4 + F5 + F6)\n"
     ]
    },
    {
     "name": "stdout",
     "output_type": "stream",
     "text": [
      "Error loading mask: .\\PAT_153_233_45_mask.png\n",
      "Error loading mask: .\\PAT_246_377_159_mask.png\n",
      "Error loading mask: .\\PAT_356_4511_960_mask.png\n",
      "Error loading mask: .\\PAT_1618_2771_628_mask.png\n",
      "Done\n"
     ]
    }
   ],
   "source": [
    "import os\n",
    "import csv\n",
    "\n",
    "# Path to the folder containing images and masks\n",
    "folder_path = '.'  # images, masks, and CSV file are in the same folder\n",
    "\n",
    "# Open the CSV file for reading\n",
    "with open('imageID_sheet.csv', 'r') as csvfile:\n",
    "    reader = csv.reader(csvfile)\n",
    "    next(reader)  # Skip header row\n",
    "\n",
    "    # Open a new CSV file for writing\n",
    "    with open('comparison_BW2_veil.csv', 'w', newline='') as outfile:\n",
    "        writer = csv.writer(outfile)\n",
    "        \n",
    "        # Iterate over rows in the CSV file\n",
    "        for row in reader:\n",
    "            image_name = row[0] + '.png'  # Assuming image names are in the first column\n",
    "            mask_name = row[0] + '_mask.png'\n",
    "            image_path = os.path.join(folder_path, image_name)\n",
    "            mask_path = os.path.join(folder_path, mask_name)\n",
    "\n",
    "            try:\n",
    "                # Calculate colorfulness score\n",
    "                blue_white_presence = calculate_blue_white_presence(image_path, mask_path)\n",
    "                \n",
    "                # Update the row with the computed score\n",
    "                row.append(blue_white_presence)\n",
    "\n",
    "                # Write the updated row to the output CSV file\n",
    "                writer.writerow(row)\n",
    "            except FileNotFoundError:\n",
    "                print(f\"File not found: {image_name} or {mask_name}. Skipping...\")\n",
    "\n",
    "print(\"Done\")\n"
   ]
  },
  {
   "cell_type": "code",
   "execution_count": null,
   "id": "80ec0430",
   "metadata": {},
   "outputs": [],
   "source": []
  }
 ],
 "metadata": {
  "kernelspec": {
   "display_name": "Python 3 (ipykernel)",
   "language": "python",
   "name": "python3"
  },
  "language_info": {
   "codemirror_mode": {
    "name": "ipython",
    "version": 3
   },
   "file_extension": ".py",
   "mimetype": "text/x-python",
   "name": "python",
   "nbconvert_exporter": "python",
   "pygments_lexer": "ipython3",
   "version": "3.11.4"
  }
 },
 "nbformat": 4,
 "nbformat_minor": 5
}
