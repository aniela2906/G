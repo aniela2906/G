{
 "cells": [
  {
   "cell_type": "code",
   "execution_count": null,
   "id": "105aa096",
   "metadata": {},
   "outputs": [],
   "source": [
    "import pandas as pd\n",
    "\n",
    "# Load the output_results.csv file\n",
    "output_results = pd.read_csv(\"C/Users/cieci/OneDrive/Pulpit/i/output_results.csv\")\n",
    "\n",
    "# Load the biopsy.csv file\n",
    "biopsy = pd.read_csv(\"biopsy.csv\")\n",
    "\n",
    "# Merge output_results with biopsy on image_path\n",
    "merged_data = pd.merge(output_results, biopsy, left_on=\"image_path\", right_on=\"img_id\", how=\"left\")\n",
    "\n",
    "# Fill NaN values in the 'biopsed' column with False\n",
    "merged_data['biopsed'] = merged_data['biopsed'].fillna(False)\n",
    "\n",
    "# Drop the 'img_id' column as it's redundant\n",
    "merged_data.drop(columns=['img_id'], inplace=True)\n",
    "\n",
    "# Save the merged_data to a new CSV file\n",
    "merged_data.to_csv(\"output_results_with_biopsed.csv\", index=False)\n"
   ]
  }
 ],
 "metadata": {
  "kernelspec": {
   "display_name": "Python 3 (ipykernel)",
   "language": "python",
   "name": "python3"
  },
  "language_info": {
   "codemirror_mode": {
    "name": "ipython",
    "version": 3
   },
   "file_extension": ".py",
   "mimetype": "text/x-python",
   "name": "python",
   "nbconvert_exporter": "python",
   "pygments_lexer": "ipython3",
   "version": "3.11.4"
  }
 },
 "nbformat": 4,
 "nbformat_minor": 5
}
