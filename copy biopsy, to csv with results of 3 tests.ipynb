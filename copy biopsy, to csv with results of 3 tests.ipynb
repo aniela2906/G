{
 "cells": [
  {
   "cell_type": "code",
   "execution_count": 32,
   "id": "583dc6dc",
   "metadata": {},
   "outputs": [],
   "source": [
    "import pandas as pd\n",
    "\n",
    "# Load the output_results.csv file\n",
    "output_results = pd.read_csv(\"C:/Users/cieci/OneDrive/Pulpit/i/i_result_sorted.csv\", sep=\";\")\n",
    "\n",
    "# Load the biopsy.csv file\n",
    "biopsy = pd.read_csv(\"C:/Users/cieci/OneDrive/Dokumenty/GitHub/G/biopsy.csv\", sep=\";\")\n",
    "\n",
    "# Merge output_results with biopsy on 'image_path' and 'img_id'\n",
    "merged_data = pd.merge(output_results, biopsy, left_on=\"image_path\", right_on=\"img_id\", how=\"left\")\n",
    "\n",
    "# Fill NaN values in the 'biopsed' column with False\n",
    "merged_data['biopsed'] = merged_data['biopsed'].fillna(False)\n",
    "\n",
    "# Select desired columns\n",
    "final_data = merged_data[['image_path', 'color_score', 'symmetry_score', 'blue_white_score', 'biopsed']]\n",
    "\n",
    "# Save the final_data to a new CSV file\n",
    "final_data.to_csv(\"output_results_with_biopsed.csv\", index=False)\n"
   ]
  },
  {
   "cell_type": "code",
   "execution_count": 28,
   "id": "bb003edb",
   "metadata": {},
   "outputs": [
    {
     "name": "stdout",
     "output_type": "stream",
     "text": [
      "First row of output_results after splitting:\n",
      "image_path          PAT_104_1754_276\n",
      "color_score                        2\n",
      "symmetry_score                     4\n",
      "blue_white_score                   0\n",
      "Name: 0, dtype: object\n",
      "\n",
      "First row of biopsy after splitting:\n",
      "img_id     PAT_1516_1765_530.png\n",
      "biopsed                    False\n",
      "Name: 0, dtype: object\n"
     ]
    }
   ],
   "source": [
    "print(\"First row of output_results after splitting:\")\n",
    "print(output_results.iloc[0])\n",
    "\n",
    "print(\"\\nFirst row of biopsy after splitting:\")\n",
    "print(biopsy.iloc[0])\n"
   ]
  },
  {
   "cell_type": "code",
   "execution_count": 30,
   "id": "52bf4cc3",
   "metadata": {},
   "outputs": [
    {
     "name": "stdout",
     "output_type": "stream",
     "text": [
      "         image_path  color_score  symmetry_score  blue_white_score\n",
      "0  PAT_104_1754_276            2               4                 0\n",
      "1  PAT_150_1799_644            2               2                 0\n",
      "2    PAT_154_235_30            2               4                 0\n",
      "3   PAT_164_255_119            2               3                 0\n",
      "4  PAT_173_268_1000            2               4                 0\n"
     ]
    }
   ],
   "source": [
    "print(output_results.head())\n"
   ]
  },
  {
   "cell_type": "code",
   "execution_count": null,
   "id": "c1ba6c3a",
   "metadata": {},
   "outputs": [],
   "source": []
  }
 ],
 "metadata": {
  "kernelspec": {
   "display_name": "Python 3 (ipykernel)",
   "language": "python",
   "name": "python3"
  },
  "language_info": {
   "codemirror_mode": {
    "name": "ipython",
    "version": 3
   },
   "file_extension": ".py",
   "mimetype": "text/x-python",
   "name": "python",
   "nbconvert_exporter": "python",
   "pygments_lexer": "ipython3",
   "version": "3.11.4"
  }
 },
 "nbformat": 4,
 "nbformat_minor": 5
}
