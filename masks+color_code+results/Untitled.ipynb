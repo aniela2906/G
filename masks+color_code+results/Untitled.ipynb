{
 "cells": [
  {
   "cell_type": "code",
   "execution_count": 3,
   "id": "baefe575",
   "metadata": {},
   "outputs": [
    {
     "name": "stdout",
     "output_type": "stream",
     "text": [
      "Skipping .\\PAT_771_1489_345.png and .\\PAT_771_1489_345_mask.png. File not found.\n",
      "Skipping .\\PAT_153_233_45.png and .\\PAT_153_233_45_mask.png. File not found.\n",
      "Skipping .\\PAT_246_377_159.png and .\\PAT_246_377_159_mask.png. File not found.\n",
      "Skipping .\\PAT_356_4511_960.png and .\\PAT_356_4511_960_mask.png. File not found.\n",
      "Skipping .\\PAT_1618_2771_628.png and .\\PAT_1618_2771_628_mask.png. File not found.\n"
     ]
    }
   ],
   "source": [
    "from PIL import Image\n",
    "import numpy as np\n",
    "import os\n",
    "import csv\n",
    "\n",
    "# Function to calculate colorfulness score\n",
    "def calculate_colorfulness_score(image_path, mask_path):\n",
    "    try:\n",
    "        # Load the image and its corresponding mask\n",
    "        image = Image.open(image_path)\n",
    "        mask = Image.open(mask_path).convert('L')\n",
    "\n",
    "        # Convert PIL image to numpy array\n",
    "        rgb_img = np.array(image)\n",
    "        mask = np.array(mask)\n",
    "\n",
    "        # Find coordinates of the lesion in the mask\n",
    "        lesion_coords = np.where(mask != 0)\n",
    "        min_x = min(lesion_coords[0])\n",
    "        max_x = max(lesion_coords[0])\n",
    "        min_y = min(lesion_coords[1])\n",
    "        max_y = max(lesion_coords[1])\n",
    "        cropped_lesion = rgb_img[min_x:max_x, min_y:max_y]\n",
    "\n",
    "        # Calculate the variance of colors within the lesion\n",
    "        color_variance = np.var(cropped_lesion, axis=(0, 1))\n",
    "\n",
    "        # Compute the colorfulness score as the sum of variances across all channels\n",
    "        colorfulness_score = np.sum(color_variance)\n",
    "\n",
    "        # Categorize the colorfulness score\n",
    "        if colorfulness_score > 10000:\n",
    "            return 4\n",
    "        elif colorfulness_score > 5000:\n",
    "            return 3\n",
    "        elif colorfulness_score > 1000:\n",
    "            return 2\n",
    "        else:\n",
    "            return 1\n",
    "    except FileNotFoundError:\n",
    "        print(f\"Skipping {image_path} and {mask_path}. File not found.\")\n",
    "        return None\n",
    "\n",
    "# Path to the folder containing images and masks\n",
    "folder_path = '.'  # Assuming images, masks, and CSV file are in the same folder\n",
    "\n",
    "# Open the CSV file for reading\n",
    "with open('imageID_sheet.csv', 'r') as csvfile:\n",
    "    reader = csv.reader(csvfile)\n",
    "    next(reader)  # Skip header row\n",
    "\n",
    "    # Open a new CSV file for writing\n",
    "    with open('imageID_sheet+comuter.csv', 'w', newline='') as outfile:\n",
    "        writer = csv.writer(outfile)\n",
    "        \n",
    "        # Iterate over rows in the CSV file\n",
    "        for row in reader:\n",
    "            image_name = row[0] + '.png'  # Assuming image names are in the first column\n",
    "            mask_name = row[0] + '_mask.png'\n",
    "            image_path = os.path.join(folder_path, image_name)\n",
    "            mask_path = os.path.join(folder_path, mask_name)\n",
    "\n",
    "            # Calculate colorfulness score\n",
    "            colorfulness_score = calculate_colorfulness_score(image_path, mask_path)\n",
    "\n",
    "            if colorfulness_score is not None:\n",
    "                # Update the row with the computed score\n",
    "                row.append(colorfulness_score)\n",
    "\n",
    "                # Write the updated row to the output CSV file\n",
    "                writer.writerow(row)\n"
   ]
  },
  {
   "cell_type": "code",
   "execution_count": null,
   "id": "d559ad6b",
   "metadata": {},
   "outputs": [],
   "source": []
  }
 ],
 "metadata": {
  "kernelspec": {
   "display_name": "Python 3 (ipykernel)",
   "language": "python",
   "name": "python3"
  },
  "language_info": {
   "codemirror_mode": {
    "name": "ipython",
    "version": 3
   },
   "file_extension": ".py",
   "mimetype": "text/x-python",
   "name": "python",
   "nbconvert_exporter": "python",
   "pygments_lexer": "ipython3",
   "version": "3.11.4"
  }
 },
 "nbformat": 4,
 "nbformat_minor": 5
}
