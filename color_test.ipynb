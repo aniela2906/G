{
 "cells": [
  {
   "cell_type": "code",
   "execution_count": 1,
   "id": "9499b39b",
   "metadata": {},
   "outputs": [
    {
     "name": "stdout",
     "output_type": "stream",
     "text": [
      "Lesion Color Score: 1\n"
     ]
    }
   ],
   "source": [
    "from PIL import Image\n",
    "import numpy as np\n",
    "from skimage import segmentation\n",
    "import matplotlib.pyplot as plt\n",
    "\n",
    "def calculate_color_score(image_path, mask_path):\n",
    "    # Load the image and its corresponding mask\n",
    "    image = Image.open(image_path)\n",
    "    mask = Image.open(mask_path).convert('L')\n",
    "\n",
    "    # Convert PIL image to numpy array\n",
    "    rgb_img = np.array(image)\n",
    "    mask = np.array(mask)\n",
    "\n",
    "    # Find coordinates of the lesion in the mask\n",
    "    lesion_coords = np.where(mask != 0)\n",
    "    min_x = min(lesion_coords[0])\n",
    "    max_x = max(lesion_coords[0])\n",
    "    min_y = min(lesion_coords[1])\n",
    "    max_y = max(lesion_coords[1])\n",
    "    cropped_lesion = rgb_img[min_x:max_x, min_y:max_y]\n",
    "\n",
    "    # Perform SLIC superpixel segmentation\n",
    "    labels1 = segmentation.slic(cropped_lesion, compactness=10, n_segments=10, sigma=3,\n",
    "                                start_label=1)\n",
    "\n",
    "    # Calculate average color for each segment\n",
    "    segment_colors = []\n",
    "    for label in np.unique(labels1):\n",
    "        if label == 0:\n",
    "            continue\n",
    "        mask_label = labels1 == label\n",
    "        avg_color = np.mean(cropped_lesion[mask_label], axis=0)\n",
    "        segment_colors.append(avg_color)\n",
    "\n",
    "    # Calculate average color of all colors in the lesion\n",
    "    avg_lesion_color = np.mean(cropped_lesion, axis=(0, 1))\n",
    "\n",
    "    # Calculate the variance of colors within the lesion\n",
    "    color_variance = np.var(cropped_lesion, axis=(0, 1))\n",
    "\n",
    "    # Compute the colorfulness score as the sum of variances across all channels\n",
    "    colorfulness_score = np.sum(color_variance)\n",
    "\n",
    "    # Categorize the colorfulness score \n",
    "    if colorfulness_score > 10000:\n",
    "        color_score = 4\n",
    "    elif colorfulness_score > 5000:\n",
    "        color_score = 3\n",
    "    elif colorfulness_score > 1000:\n",
    "        color_score = 2\n",
    "    else:\n",
    "        color_score = 1\n",
    "\n",
    "    return color_score\n",
    "\n",
    "#add image path and calclate the lesion color \n",
    "image_path = \" \"\n",
    "mask_path = \" \"\n",
    "\n",
    "color_score = calculate_color_score(image_path, mask_path)\n",
    "print(\"Lesion Color Score:\", color_score)\n"
   ]
  }
 ],
 "metadata": {
  "kernelspec": {
   "display_name": "Python 3 (ipykernel)",
   "language": "python",
   "name": "python3"
  },
  "language_info": {
   "codemirror_mode": {
    "name": "ipython",
    "version": 3
   },
   "file_extension": ".py",
   "mimetype": "text/x-python",
   "name": "python",
   "nbconvert_exporter": "python",
   "pygments_lexer": "ipython3",
   "version": "3.11.4"
  }
 },
 "nbformat": 4,
 "nbformat_minor": 5
}
