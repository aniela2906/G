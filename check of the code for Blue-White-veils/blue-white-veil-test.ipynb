{
 "cells": [
  {
   "cell_type": "code",
   "execution_count": 37,
   "id": "04bf455e",
   "metadata": {},
   "outputs": [
    {
     "name": "stdout",
     "output_type": "stream",
     "text": [
      "yes\n"
     ]
    }
   ],
   "source": [
    "import cv2\n",
    "import numpy as np\n",
    "\n",
    "\n",
    "def calculate_blue_white_ratio(image_path, mask_path):\n",
    "    # Load the image and mask\n",
    "    image = cv2.imread(image_path)\n",
    "    mask = cv2.imread(mask_path, cv2.IMREAD_GRAYSCALE)\n",
    "\n",
    "    # Check if images were loaded successfully\n",
    "    if image is None:\n",
    "        print(f\"Error loading image: {image_path}\")\n",
    "        return\n",
    "    if mask is None:\n",
    "        print(f\"Error loading mask: {mask_path}\")\n",
    "        return\n",
    "\n",
    "    # Resize the mask to match the dimensions of the image\n",
    "    if image.shape[:2] != mask.shape[:2]:\n",
    "        print(\"Image and mask dimensions do not match. Resizing mask...\")\n",
    "        mask = cv2.resize(mask, (image.shape[1], image.shape[0]))\n",
    "\n",
    "    # Convert image to HSV color space\n",
    "    hsv_image = cv2.cvtColor(image, cv2.COLOR_BGR2HSV)\n",
    "\n",
    "    # Define broader range for blue colors in HSV\n",
    "    lower_blue = np.array([100, 50, 50])  # Adjusted range for blue\n",
    "    upper_blue = np.array([140, 255, 255])  # Adjusted range for blue\n",
    "\n",
    "    # Define a range for detecting white or very light colors\n",
    "    lower_white = np.array([0, 0, 200])  # Range for white\n",
    "    upper_white = np.array([180, 25, 255])  # Range for white\n",
    "\n",
    "    # Create a mask for blue and white colors\n",
    "    blue_mask = cv2.inRange(hsv_image, lower_blue, upper_blue)\n",
    "    white_mask = cv2.inRange(hsv_image, lower_white, upper_white)\n",
    "\n",
    "    # Combine the blue and white masks\n",
    "    combined_color_mask = cv2.bitwise_or(blue_mask, white_mask)\n",
    "\n",
    "    # Combine the color mask with the original lesion mask\n",
    "    combined_mask = cv2.bitwise_and(mask, mask, mask=combined_color_mask)\n",
    "\n",
    "    # Calculate area of blue-white veil\n",
    "    blue_white_area = cv2.countNonZero(combined_mask)\n",
    "\n",
    "    # Calculate area of the lesion (non-zero pixels in the mask)\n",
    "    lesion_area = cv2.countNonZero(mask)\n",
    "\n",
    "    # Calculate the ratio of blue-white veil area to lesion area\n",
    "    ratio = blue_white_area / lesion_area\n",
    "\n",
    "    if ratio >0.01:\n",
    "        print(\"yes\")\n",
    "    else:\n",
    "        print(\"no\")\n",
    "    \n",
    "   # File paths relative to the script location\n",
    "image_path = '1.png'\n",
    "mask_path = '1_mask.png'\n",
    "\n",
    "# Calculate blue-white veil area ratio\n",
    "blue_white_ratio = calculate_blue_white_ratio(image_path, mask_path)"
   ]
  },
  {
   "cell_type": "markdown",
   "id": "74e254f6",
   "metadata": {},
   "source": [
    "for ratio>0.1:  \n",
    "1-yes  \n",
    "2-no  \n",
    "3-no  \n",
    "4-yes  \n",
    "5-yes  \n",
    "6-no  \n",
    "7-no  \n",
    "8-yes  \n",
    "9-yes  \n",
    "10-yes  \n",
    "11-yes  \n",
    "12-no  \n",
    " \n"
   ]
  }
 ],
 "metadata": {
  "kernelspec": {
   "display_name": "Python 3 (ipykernel)",
   "language": "python",
   "name": "python3"
  },
  "language_info": {
   "codemirror_mode": {
    "name": "ipython",
    "version": 3
   },
   "file_extension": ".py",
   "mimetype": "text/x-python",
   "name": "python",
   "nbconvert_exporter": "python",
   "pygments_lexer": "ipython3",
   "version": "3.11.4"
  }
 },
 "nbformat": 4,
 "nbformat_minor": 5
}
