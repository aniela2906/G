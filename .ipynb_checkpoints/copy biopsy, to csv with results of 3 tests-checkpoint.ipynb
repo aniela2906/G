{
 "cells": [
  {
   "cell_type": "code",
   "execution_count": 7,
   "id": "c8c6f9a5",
   "metadata": {},
   "outputs": [
    {
     "ename": "FileNotFoundError",
     "evalue": "[Errno 2] No such file or directory: 'C:/Users/cieci/OneDrive/Dokumenty/GitHub/G/biopsy.csv'",
     "output_type": "error",
     "traceback": [
      "\u001b[1;31m---------------------------------------------------------------------------\u001b[0m",
      "\u001b[1;31mFileNotFoundError\u001b[0m                         Traceback (most recent call last)",
      "Cell \u001b[1;32mIn[7], line 9\u001b[0m\n\u001b[0;32m      6\u001b[0m     output_results \u001b[38;5;241m=\u001b[39m pd\u001b[38;5;241m.\u001b[39mDataFrame(output_reader)\n\u001b[0;32m      8\u001b[0m \u001b[38;5;66;03m# Load the biopsy.csv file\u001b[39;00m\n\u001b[1;32m----> 9\u001b[0m \u001b[38;5;28;01mwith\u001b[39;00m \u001b[38;5;28mopen\u001b[39m(\u001b[38;5;124m\"\u001b[39m\u001b[38;5;124mC:/Users/cieci/OneDrive/Dokumenty/GitHub/G/biopsy.csv\u001b[39m\u001b[38;5;124m\"\u001b[39m, \u001b[38;5;124m\"\u001b[39m\u001b[38;5;124mr\u001b[39m\u001b[38;5;124m\"\u001b[39m, newline\u001b[38;5;241m=\u001b[39m\u001b[38;5;124m\"\u001b[39m\u001b[38;5;124m\"\u001b[39m) \u001b[38;5;28;01mas\u001b[39;00m biopsy_file:\n\u001b[0;32m     10\u001b[0m     biopsy_reader \u001b[38;5;241m=\u001b[39m csv\u001b[38;5;241m.\u001b[39mDictReader(biopsy_file)\n\u001b[0;32m     11\u001b[0m     biopsy \u001b[38;5;241m=\u001b[39m pd\u001b[38;5;241m.\u001b[39mDataFrame(biopsy_reader)\n",
      "File \u001b[1;32m~\\anaconda3\\Lib\\site-packages\\IPython\\core\\interactiveshell.py:284\u001b[0m, in \u001b[0;36m_modified_open\u001b[1;34m(file, *args, **kwargs)\u001b[0m\n\u001b[0;32m    277\u001b[0m \u001b[38;5;28;01mif\u001b[39;00m file \u001b[38;5;129;01min\u001b[39;00m {\u001b[38;5;241m0\u001b[39m, \u001b[38;5;241m1\u001b[39m, \u001b[38;5;241m2\u001b[39m}:\n\u001b[0;32m    278\u001b[0m     \u001b[38;5;28;01mraise\u001b[39;00m \u001b[38;5;167;01mValueError\u001b[39;00m(\n\u001b[0;32m    279\u001b[0m         \u001b[38;5;124mf\u001b[39m\u001b[38;5;124m\"\u001b[39m\u001b[38;5;124mIPython won\u001b[39m\u001b[38;5;124m'\u001b[39m\u001b[38;5;124mt let you open fd=\u001b[39m\u001b[38;5;132;01m{\u001b[39;00mfile\u001b[38;5;132;01m}\u001b[39;00m\u001b[38;5;124m by default \u001b[39m\u001b[38;5;124m\"\u001b[39m\n\u001b[0;32m    280\u001b[0m         \u001b[38;5;124m\"\u001b[39m\u001b[38;5;124mas it is likely to crash IPython. If you know what you are doing, \u001b[39m\u001b[38;5;124m\"\u001b[39m\n\u001b[0;32m    281\u001b[0m         \u001b[38;5;124m\"\u001b[39m\u001b[38;5;124myou can use builtins\u001b[39m\u001b[38;5;124m'\u001b[39m\u001b[38;5;124m open.\u001b[39m\u001b[38;5;124m\"\u001b[39m\n\u001b[0;32m    282\u001b[0m     )\n\u001b[1;32m--> 284\u001b[0m \u001b[38;5;28;01mreturn\u001b[39;00m io_open(file, \u001b[38;5;241m*\u001b[39margs, \u001b[38;5;241m*\u001b[39m\u001b[38;5;241m*\u001b[39mkwargs)\n",
      "\u001b[1;31mFileNotFoundError\u001b[0m: [Errno 2] No such file or directory: 'C:/Users/cieci/OneDrive/Dokumenty/GitHub/G/biopsy.csv'"
     ]
    }
   ],
   "source": [
    "import csv\n",
    "\n",
    "# Load the output_results.csv file\n",
    "with open(\"C:/Users/cieci/OneDrive/Pulpit/i/output_results.csv\", \"r\", newline=\"\") as output_file:\n",
    "    output_reader = csv.DictReader(output_file)\n",
    "    output_results = pd.DataFrame(output_reader)\n",
    "\n",
    "# Load the biopsy.csv file\n",
    "with open(\"C:/Users/cieci/OneDrive/Dokumenty/GitHub/G/biopsy.csv\", \"r\", newline=\"\") as biopsy_file:\n",
    "    biopsy_reader = csv.DictReader(biopsy_file)\n",
    "    biopsy = pd.DataFrame(biopsy_reader)\n",
    "\n",
    "# Merge output_results with biopsy on image_path\n",
    "merged_data = pd.merge(output_results, biopsy, left_on=\"image_path\", right_on=\"img_id\", how=\"left\")\n",
    "\n",
    "# Fill NaN values in the 'biopsed' column with False\n",
    "merged_data['biopsed'] = merged_data['biopsed'].fillna(False)\n",
    "\n",
    "# Drop the 'img_id' column as it's redundant\n",
    "merged_data.drop(columns=['img_id'], inplace=True)\n",
    "\n",
    "# Save the merged_data to a new CSV file\n",
    "merged_data.to_csv(\"output_results_with_biopsed.csv\", index=False)\n"
   ]
  },
  {
   "cell_type": "code",
   "execution_count": null,
   "id": "8bbee6de",
   "metadata": {},
   "outputs": [],
   "source": []
  }
 ],
 "metadata": {
  "kernelspec": {
   "display_name": "Python 3 (ipykernel)",
   "language": "python",
   "name": "python3"
  },
  "language_info": {
   "codemirror_mode": {
    "name": "ipython",
    "version": 3
   },
   "file_extension": ".py",
   "mimetype": "text/x-python",
   "name": "python",
   "nbconvert_exporter": "python",
   "pygments_lexer": "ipython3",
   "version": "3.11.4"
  }
 },
 "nbformat": 4,
 "nbformat_minor": 5
}
