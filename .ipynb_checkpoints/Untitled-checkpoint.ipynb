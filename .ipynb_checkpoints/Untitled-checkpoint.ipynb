{
 "cells": [
  {
   "cell_type": "markdown",
   "id": "1184227c",
   "metadata": {},
   "source": []
  },
  {
   "cell_type": "code",
   "execution_count": 5,
   "id": "a608eff3",
   "metadata": {},
   "outputs": [
    {
     "name": "stdout",
     "output_type": "stream",
     "text": [
      "              precision    recall  f1-score   support\n",
      "\n",
      "       False       0.45      0.34      0.39       191\n",
      "        True       0.60      0.70      0.64       269\n",
      "\n",
      "    accuracy                           0.55       460\n",
      "   macro avg       0.52      0.52      0.52       460\n",
      "weighted avg       0.53      0.55      0.54       460\n",
      "\n",
      "[[ 65 126]\n",
      " [ 81 188]]\n"
     ]
    },
    {
     "data": {
      "text/plain": [
       "['svm_classifier.pkl']"
      ]
     },
     "execution_count": 5,
     "metadata": {},
     "output_type": "execute_result"
    }
   ],
   "source": [
    "import pandas as pd\n",
    "from sklearn.model_selection import train_test_split\n",
    "from sklearn.preprocessing import StandardScaler\n",
    "from sklearn.pipeline import make_pipeline\n",
    "from sklearn.svm import SVC\n",
    "from sklearn.metrics import classification_report, confusion_matrix\n",
    "import joblib\n",
    "\n",
    "# Load data from CSV\n",
    "data = pd.read_csv('C:/Users/cieci/OneDrive/Dokumenty/GitHub/G/result_for_other_groups_images/output_results_with_biopsed_p.csv')\n",
    "\n",
    "# Extract features and labels\n",
    "X = data[['color_score', 'symmetry_score', 'blue_white_score']].values\n",
    "y = data['biopsed'].values  # Assuming 'biopsed' column contains the class labels (0 or 1)\n",
    "\n",
    "# Split data for training and testing\n",
    "X_train, X_test, y_train, y_test = train_test_split(X, y, test_size=0.2, random_state=42, stratify=y)\n",
    "\n",
    "# Define and train the classifier\n",
    "classifier = make_pipeline(StandardScaler(), SVC(probability=True))\n",
    "classifier.fit(X_train, y_train)\n",
    "\n",
    "# Evaluate the classifier\n",
    "y_pred = classifier.predict(X_test)\n",
    "print(classification_report(y_test, y_pred))\n",
    "print(confusion_matrix(y_test, y_pred))\n",
    "\n",
    "# Save the trained model\n",
    "joblib.dump(classifier, 'svm_classifier.pkl')\n"
   ]
  },
  {
   "cell_type": "code",
   "execution_count": null,
   "id": "ae2ec794",
   "metadata": {},
   "outputs": [],
   "source": [
    "# Evaluate the classifier\n",
    "y_pred = classifier.predict(X_test)\n",
    "print(\"Classification Report:\")\n",
    "print(classification_report(y_test, y_pred))\n",
    "print(\"Confusion Matrix:\")\n",
    "print(confusion_matrix(y_test, y_pred))\n",
    "\n",
    "# Save the trained classifier\n",
    "joblib.dump(classifier, 'trained_classifier.pkl')\n",
    "\n",
    "# Create a function for classification\n",
    "def classify_features(features, classifier):\n",
    "    # Predict using the trained classifier\n",
    "    prob = classifier.predict_proba([features])[0][1]  # Assuming binary classification, output probability of class 1\n",
    "    return prob\n",
    "\n",
    "# Loop through each row and classify\n",
    "for index, row in data.iterrows():\n",
    "    features = row[['color_score', 'symmetry_score', 'blue_white_score']].values\n",
    "    probability = classify_features(features, classifier)\n",
    "    print(f\"Image Path: {row['image_path']} | Probability of melanoma: {probability}\")"
   ]
  }
 ],
 "metadata": {
  "kernelspec": {
   "display_name": "Python 3 (ipykernel)",
   "language": "python",
   "name": "python3"
  },
  "language_info": {
   "codemirror_mode": {
    "name": "ipython",
    "version": 3
   },
   "file_extension": ".py",
   "mimetype": "text/x-python",
   "name": "python",
   "nbconvert_exporter": "python",
   "pygments_lexer": "ipython3",
   "version": "3.11.4"
  }
 },
 "nbformat": 4,
 "nbformat_minor": 5
}
